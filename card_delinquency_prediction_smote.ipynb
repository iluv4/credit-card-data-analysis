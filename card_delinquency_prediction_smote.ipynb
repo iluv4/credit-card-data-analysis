아래는 두 파일(hanhyeonmin_yeonceyul_smote.ipynb, meosinreoning_gimdonghwan_cuga_input_deiteo_giban_teseuteu_pilyoseong_jilmun-2.ipynb)의 핵심 로직을 중복 없이 통합하고, 각 단계별로 상세한 주석을 단 예시 코드입니다.  
두 파일 모두 불균형 이진 분류(연체 예측)와 SMOTE, 랜덤포레스트, 피처 중요도 시각화, 신규 입력 예측 등 유사한 흐름을 갖고 있으므로, 중복은 하나로 정리하고, 각 파일의 장점(예: 입력 예측, 피처 중요도 시각화 등)을 모두 포함했습니다[1][2].

---

```python
# 📌 필수 라이브러리 설치 (코랩 환경에서 필요)
!pip install imbalanced-learn

# 📌 라이브러리 불러오기
import pandas as pd
from sklearn.ensemble import RandomForestClassifier
from sklearn.model_selection import train_test_split
from sklearn.preprocessing import LabelEncoder
from sklearn.metrics import classification_report, confusion_matrix, ConfusionMatrixDisplay
from imblearn.over_sampling import SMOTE
import matplotlib.pyplot as plt
import seaborn as sns

# 📌 데이터 불러오기 (경로는 환경에 맞게 수정)
df = pd.read_csv("/content/drive/MyDrive/your_data.csv")  # 파일명/경로 수정

# 📌 사용할 변수 선정 (파일2의 예시 피처 + 필요시 추가)
features = [
    '남녀구분코드', '연령', '상환개월수_결제일_R6M', '선결제건수_R6M', '카드이용한도금액',
    '연체건수_R3M', '포인트_이용포인트_R12M', '할인금액_R3M', '이용금액_카드론_R3M',
    'RV최소결제비율', '한도증액금액_R12M'
]
target = '회원여부_연체'  # 혹은 'Y_binary' 등 실제 타겟 컬럼명 확인 필요

# 📌 타겟 이진화 (연체 건수 기반, 필요시)
if '연체 건수_R6M' in df.columns:
    # 연체 건수 > 0 이면 1, 아니면 0
    df['Y_binary'] = df['연체 건수_R6M'].apply(lambda x: 1 if x > 0 else 0)
    target = 'Y_binary'

# 📌 데이터 전처리: 피처/타겟 분리 및 인코딩
X = df[features].copy()
y = df[target].copy()

# 범주형 변수 라벨 인코딩
for col in X.select_dtypes(include='object').columns:
    X[col] = LabelEncoder().fit_transform(X[col].astype(str))

# 결측치 제거 (피처와 타겟 동기화)
X = X.dropna()
y = y[X.index]
y = LabelEncoder().fit_transform(y.astype(str))  # 타겟이 문자열일 경우 인코딩

# 📌 SMOTE로 소수 클래스 오버샘플링 (불균형 해소)
smote = SMOTE(random_state=42)
X_resampled, y_resampled = smote.fit_resample(X, y)

# 📌 학습/테스트 데이터 분할
X_train, X_test, y_train, y_test = train_test_split(
    X_resampled, y_resampled, test_size=0.2, random_state=42
)

# 📌 랜덤포레스트 모델 학습
model = RandomForestClassifier(random_state=42)
model.fit(X_train, y_train)

# 📌 예측 및 평가
y_pred = model.predict(X_test)
print(classification_report(y_test, y_pred))  # 정밀도, 재현율, F1 등 평가 지표 출력

# 📌 혼동 행렬 시각화
cm = confusion_matrix(y_test, y_pred)
disp = ConfusionMatrixDisplay(confusion_matrix=cm, display_labels=model.classes_)
disp.plot()
plt.show()

# 📌 피처 중요도 시각화
importances = model.feature_importances_
importance_df = pd.DataFrame({
    'Feature': X.columns,
    'Importance': importances
}).sort_values(by='Importance', ascending=False)

plt.figure(figsize=(10, 6))
sns.barplot(x='Importance', y='Feature', data=importance_df)
plt.title('Feature Importance (After SMOTE)')
plt.tight_layout()
plt.show()

# 📌 신규 고객 정보 입력 및 연체 예측 (파일2의 장점)
new_customer = pd.DataFrame([{
    '남녀구분코드': 1,
    '연령': '30대',
    '상환개월수_결제일_R6M': 6,
    '선결제건수_R6M': 2,
    '카드이용한도금액': 5000000,
    '연체건수_R3M': 1,
    '포인트_이용포인트_R12M': 12000,
    '할인금액_R3M': 15000,
    '이용금액_카드론_R3M': 300000,
    'RV최소결제비율': 0.1,
    '한도증액금액_R12M': 0
}])

# 신규 입력도 범주형 인코딩 처리
for col in new_customer.select_dtypes(include='object').columns:
    if col in df.columns:
        new_customer[col] = LabelEncoder().fit(df[col]).transform(new_customer[col])

# 예측
prediction = model.predict(new_customer)
print("연체 예측 결과:", "연체" if prediction[0] == 1 else "정상")
```

---

## 코드 주요 각주 및 설명

- **데이터 로딩 및 피처 선정:** 두 파일의 공통 피처(카드, 연령, 연체 등)를 통합하여 사용합니다. 필요시 컬럼명을 환경에 맞게 수정하세요.
- **타겟 이진화:** 연체 건수 등으로 타겟을 0/1로 변환(파일2 방식). 이미 이진값이면 생략 가능.
- **라벨 인코딩:** 범주형(문자) 변수는 반드시 숫자로 변환해야 모델 입력이 가능합니다.
- **SMOTE:** 불균형 데이터 문제를 완화하기 위해 소수 클래스 샘플을 합성합니다.
- **모델 학습/평가:** 랜덤포레스트로 학습, classification_report와 confusion_matrix로 성능을 평가합니다.
- **피처 중요도 시각화:** 모델이 어떤 피처에 주로 의존하는지 시각적으로 확인할 수 있습니다.
- **신규 입력 예측:** 실제 고객 정보를 입력해 연체 여부를 예측하는 기능을 포함합니다.

---

이 코드는 두 파일의 중복을 제거하고,  
각 파일의 장점(데이터 이진화, 입력 예측, 피처 중요도 시각화 등)을 모두 반영한 통합 버전입니다[1][2].  
실제 환경에서는 파일 경로나 컬럼명, 피처 구성이 다를 수 있으니,  
적절히 수정해 사용하세요.

[1] https://ppl-ai-file-upload.s3.amazonaws.com/web/direct-files/attachments/38200181/5ea901ed-7ad3-45db-b1bc-cea9b02c0c99/hanhyeonmin_yeonceyul_smote.ipynb
[2] https://ppl-ai-file-upload.s3.amazonaws.com/web/direct-files/attachments/38200181/4f42edac-d3e5-4590-ac4e-389ccc43d6d7/meosinreoning_gimdonghwan_cuga_input_deiteo_giban_teseuteu_pilyoseong_jilmun-2.ipynb
