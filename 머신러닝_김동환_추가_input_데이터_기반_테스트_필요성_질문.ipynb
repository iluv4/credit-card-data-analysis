{
  "nbformat": 4,
  "nbformat_minor": 0,
  "metadata": {
    "colab": {
      "provenance": [],
      "include_colab_link": true
    },
    "kernelspec": {
      "name": "python3",
      "display_name": "Python 3"
    },
    "language_info": {
      "name": "python"
    }
  },
  "cells": [
    {
      "cell_type": "markdown",
      "metadata": {
        "id": "view-in-github",
        "colab_type": "text"
      },
      "source": [
        "<a href=\"https://colab.research.google.com/github/iluv4/creditCard/blob/main/%EB%A8%B8%EC%8B%A0%EB%9F%AC%EB%8B%9D_%EA%B9%80%EB%8F%99%ED%99%98_%EC%B6%94%EA%B0%80_input_%EB%8D%B0%EC%9D%B4%ED%84%B0_%EA%B8%B0%EB%B0%98_%ED%85%8C%EC%8A%A4%ED%8A%B8_%ED%95%84%EC%9A%94%EC%84%B1_%EC%A7%88%EB%AC%B8.ipynb\" target=\"_parent\"><img src=\"https://colab.research.google.com/assets/colab-badge.svg\" alt=\"Open In Colab\"/></a>"
      ]
    },
    {
      "cell_type": "code",
      "execution_count": null,
      "metadata": {
        "colab": {
          "base_uri": "https://localhost:8080/",
          "height": 1000
        },
        "id": "xSYLh2sRY1x5",
        "outputId": "cf6f5a5e-a373-458f-9a1c-2724eda9e00a",
        "collapsed": true
      },
      "outputs": [
        {
          "output_type": "stream",
          "name": "stdout",
          "text": [
            "Requirement already satisfied: imbalanced-learn in /usr/local/lib/python3.11/dist-packages (0.13.0)\n",
            "Requirement already satisfied: numpy<3,>=1.24.3 in /usr/local/lib/python3.11/dist-packages (from imbalanced-learn) (2.0.2)\n",
            "Requirement already satisfied: scipy<2,>=1.10.1 in /usr/local/lib/python3.11/dist-packages (from imbalanced-learn) (1.15.3)\n",
            "Requirement already satisfied: scikit-learn<2,>=1.3.2 in /usr/local/lib/python3.11/dist-packages (from imbalanced-learn) (1.6.1)\n",
            "Requirement already satisfied: sklearn-compat<1,>=0.1 in /usr/local/lib/python3.11/dist-packages (from imbalanced-learn) (0.1.3)\n",
            "Requirement already satisfied: joblib<2,>=1.1.1 in /usr/local/lib/python3.11/dist-packages (from imbalanced-learn) (1.5.1)\n",
            "Requirement already satisfied: threadpoolctl<4,>=2.0.0 in /usr/local/lib/python3.11/dist-packages (from imbalanced-learn) (3.6.0)\n",
            "              precision    recall  f1-score   support\n",
            "\n",
            "           0       1.00      0.98      0.99       286\n",
            "           1       0.98      1.00      0.99       283\n",
            "\n",
            "    accuracy                           0.99       569\n",
            "   macro avg       0.99      0.99      0.99       569\n",
            "weighted avg       0.99      0.99      0.99       569\n",
            "\n"
          ]
        },
        {
          "output_type": "stream",
          "name": "stderr",
          "text": [
            "<ipython-input-3-b1c6709869ba>:63: UserWarning: Glyph 50672 (\\N{HANGUL SYLLABLE YEON}) missing from font(s) DejaVu Sans.\n",
            "  plt.tight_layout()\n",
            "<ipython-input-3-b1c6709869ba>:63: UserWarning: Glyph 52404 (\\N{HANGUL SYLLABLE CE}) missing from font(s) DejaVu Sans.\n",
            "  plt.tight_layout()\n",
            "<ipython-input-3-b1c6709869ba>:63: UserWarning: Glyph 44148 (\\N{HANGUL SYLLABLE GEON}) missing from font(s) DejaVu Sans.\n",
            "  plt.tight_layout()\n",
            "<ipython-input-3-b1c6709869ba>:63: UserWarning: Glyph 49688 (\\N{HANGUL SYLLABLE SU}) missing from font(s) DejaVu Sans.\n",
            "  plt.tight_layout()\n",
            "<ipython-input-3-b1c6709869ba>:63: UserWarning: Glyph 52572 (\\N{HANGUL SYLLABLE COE}) missing from font(s) DejaVu Sans.\n",
            "  plt.tight_layout()\n",
            "<ipython-input-3-b1c6709869ba>:63: UserWarning: Glyph 49548 (\\N{HANGUL SYLLABLE SO}) missing from font(s) DejaVu Sans.\n",
            "  plt.tight_layout()\n",
            "<ipython-input-3-b1c6709869ba>:63: UserWarning: Glyph 44208 (\\N{HANGUL SYLLABLE GYEOL}) missing from font(s) DejaVu Sans.\n",
            "  plt.tight_layout()\n",
            "<ipython-input-3-b1c6709869ba>:63: UserWarning: Glyph 51228 (\\N{HANGUL SYLLABLE JE}) missing from font(s) DejaVu Sans.\n",
            "  plt.tight_layout()\n",
            "<ipython-input-3-b1c6709869ba>:63: UserWarning: Glyph 48708 (\\N{HANGUL SYLLABLE BI}) missing from font(s) DejaVu Sans.\n",
            "  plt.tight_layout()\n",
            "<ipython-input-3-b1c6709869ba>:63: UserWarning: Glyph 50984 (\\N{HANGUL SYLLABLE YUL}) missing from font(s) DejaVu Sans.\n",
            "  plt.tight_layout()\n",
            "<ipython-input-3-b1c6709869ba>:63: UserWarning: Glyph 49345 (\\N{HANGUL SYLLABLE SANG}) missing from font(s) DejaVu Sans.\n",
            "  plt.tight_layout()\n",
            "<ipython-input-3-b1c6709869ba>:63: UserWarning: Glyph 54872 (\\N{HANGUL SYLLABLE HWAN}) missing from font(s) DejaVu Sans.\n",
            "  plt.tight_layout()\n",
            "<ipython-input-3-b1c6709869ba>:63: UserWarning: Glyph 44060 (\\N{HANGUL SYLLABLE GAE}) missing from font(s) DejaVu Sans.\n",
            "  plt.tight_layout()\n",
            "<ipython-input-3-b1c6709869ba>:63: UserWarning: Glyph 50900 (\\N{HANGUL SYLLABLE WEOL}) missing from font(s) DejaVu Sans.\n",
            "  plt.tight_layout()\n",
            "<ipython-input-3-b1c6709869ba>:63: UserWarning: Glyph 51068 (\\N{HANGUL SYLLABLE IL}) missing from font(s) DejaVu Sans.\n",
            "  plt.tight_layout()\n",
            "<ipython-input-3-b1c6709869ba>:63: UserWarning: Glyph 54624 (\\N{HANGUL SYLLABLE HAL}) missing from font(s) DejaVu Sans.\n",
            "  plt.tight_layout()\n",
            "<ipython-input-3-b1c6709869ba>:63: UserWarning: Glyph 51064 (\\N{HANGUL SYLLABLE IN}) missing from font(s) DejaVu Sans.\n",
            "  plt.tight_layout()\n",
            "<ipython-input-3-b1c6709869ba>:63: UserWarning: Glyph 44552 (\\N{HANGUL SYLLABLE GEUM}) missing from font(s) DejaVu Sans.\n",
            "  plt.tight_layout()\n",
            "<ipython-input-3-b1c6709869ba>:63: UserWarning: Glyph 50529 (\\N{HANGUL SYLLABLE AEG}) missing from font(s) DejaVu Sans.\n",
            "  plt.tight_layout()\n",
            "<ipython-input-3-b1c6709869ba>:63: UserWarning: Glyph 52852 (\\N{HANGUL SYLLABLE KA}) missing from font(s) DejaVu Sans.\n",
            "  plt.tight_layout()\n",
            "<ipython-input-3-b1c6709869ba>:63: UserWarning: Glyph 46300 (\\N{HANGUL SYLLABLE DEU}) missing from font(s) DejaVu Sans.\n",
            "  plt.tight_layout()\n",
            "<ipython-input-3-b1c6709869ba>:63: UserWarning: Glyph 51060 (\\N{HANGUL SYLLABLE I}) missing from font(s) DejaVu Sans.\n",
            "  plt.tight_layout()\n",
            "<ipython-input-3-b1c6709869ba>:63: UserWarning: Glyph 50857 (\\N{HANGUL SYLLABLE YONG}) missing from font(s) DejaVu Sans.\n",
            "  plt.tight_layout()\n",
            "<ipython-input-3-b1c6709869ba>:63: UserWarning: Glyph 54620 (\\N{HANGUL SYLLABLE HAN}) missing from font(s) DejaVu Sans.\n",
            "  plt.tight_layout()\n",
            "<ipython-input-3-b1c6709869ba>:63: UserWarning: Glyph 46020 (\\N{HANGUL SYLLABLE DO}) missing from font(s) DejaVu Sans.\n",
            "  plt.tight_layout()\n",
            "<ipython-input-3-b1c6709869ba>:63: UserWarning: Glyph 47161 (\\N{HANGUL SYLLABLE RYEONG}) missing from font(s) DejaVu Sans.\n",
            "  plt.tight_layout()\n",
            "<ipython-input-3-b1c6709869ba>:63: UserWarning: Glyph 54252 (\\N{HANGUL SYLLABLE PO}) missing from font(s) DejaVu Sans.\n",
            "  plt.tight_layout()\n",
            "<ipython-input-3-b1c6709869ba>:63: UserWarning: Glyph 53944 (\\N{HANGUL SYLLABLE TEU}) missing from font(s) DejaVu Sans.\n",
            "  plt.tight_layout()\n",
            "<ipython-input-3-b1c6709869ba>:63: UserWarning: Glyph 51613 (\\N{HANGUL SYLLABLE JEUNG}) missing from font(s) DejaVu Sans.\n",
            "  plt.tight_layout()\n",
            "<ipython-input-3-b1c6709869ba>:63: UserWarning: Glyph 49440 (\\N{HANGUL SYLLABLE SEON}) missing from font(s) DejaVu Sans.\n",
            "  plt.tight_layout()\n",
            "<ipython-input-3-b1c6709869ba>:63: UserWarning: Glyph 45224 (\\N{HANGUL SYLLABLE NAM}) missing from font(s) DejaVu Sans.\n",
            "  plt.tight_layout()\n",
            "<ipython-input-3-b1c6709869ba>:63: UserWarning: Glyph 45376 (\\N{HANGUL SYLLABLE NYEO}) missing from font(s) DejaVu Sans.\n",
            "  plt.tight_layout()\n",
            "<ipython-input-3-b1c6709869ba>:63: UserWarning: Glyph 44396 (\\N{HANGUL SYLLABLE GU}) missing from font(s) DejaVu Sans.\n",
            "  plt.tight_layout()\n",
            "<ipython-input-3-b1c6709869ba>:63: UserWarning: Glyph 48516 (\\N{HANGUL SYLLABLE BUN}) missing from font(s) DejaVu Sans.\n",
            "  plt.tight_layout()\n",
            "<ipython-input-3-b1c6709869ba>:63: UserWarning: Glyph 53076 (\\N{HANGUL SYLLABLE KO}) missing from font(s) DejaVu Sans.\n",
            "  plt.tight_layout()\n",
            "<ipython-input-3-b1c6709869ba>:63: UserWarning: Glyph 47200 (\\N{HANGUL SYLLABLE RON}) missing from font(s) DejaVu Sans.\n",
            "  plt.tight_layout()\n",
            "/usr/local/lib/python3.11/dist-packages/IPython/core/pylabtools.py:151: UserWarning: Glyph 50672 (\\N{HANGUL SYLLABLE YEON}) missing from font(s) DejaVu Sans.\n",
            "  fig.canvas.print_figure(bytes_io, **kw)\n",
            "/usr/local/lib/python3.11/dist-packages/IPython/core/pylabtools.py:151: UserWarning: Glyph 52404 (\\N{HANGUL SYLLABLE CE}) missing from font(s) DejaVu Sans.\n",
            "  fig.canvas.print_figure(bytes_io, **kw)\n",
            "/usr/local/lib/python3.11/dist-packages/IPython/core/pylabtools.py:151: UserWarning: Glyph 44148 (\\N{HANGUL SYLLABLE GEON}) missing from font(s) DejaVu Sans.\n",
            "  fig.canvas.print_figure(bytes_io, **kw)\n",
            "/usr/local/lib/python3.11/dist-packages/IPython/core/pylabtools.py:151: UserWarning: Glyph 49688 (\\N{HANGUL SYLLABLE SU}) missing from font(s) DejaVu Sans.\n",
            "  fig.canvas.print_figure(bytes_io, **kw)\n",
            "/usr/local/lib/python3.11/dist-packages/IPython/core/pylabtools.py:151: UserWarning: Glyph 52572 (\\N{HANGUL SYLLABLE COE}) missing from font(s) DejaVu Sans.\n",
            "  fig.canvas.print_figure(bytes_io, **kw)\n",
            "/usr/local/lib/python3.11/dist-packages/IPython/core/pylabtools.py:151: UserWarning: Glyph 49548 (\\N{HANGUL SYLLABLE SO}) missing from font(s) DejaVu Sans.\n",
            "  fig.canvas.print_figure(bytes_io, **kw)\n",
            "/usr/local/lib/python3.11/dist-packages/IPython/core/pylabtools.py:151: UserWarning: Glyph 44208 (\\N{HANGUL SYLLABLE GYEOL}) missing from font(s) DejaVu Sans.\n",
            "  fig.canvas.print_figure(bytes_io, **kw)\n",
            "/usr/local/lib/python3.11/dist-packages/IPython/core/pylabtools.py:151: UserWarning: Glyph 51228 (\\N{HANGUL SYLLABLE JE}) missing from font(s) DejaVu Sans.\n",
            "  fig.canvas.print_figure(bytes_io, **kw)\n",
            "/usr/local/lib/python3.11/dist-packages/IPython/core/pylabtools.py:151: UserWarning: Glyph 48708 (\\N{HANGUL SYLLABLE BI}) missing from font(s) DejaVu Sans.\n",
            "  fig.canvas.print_figure(bytes_io, **kw)\n",
            "/usr/local/lib/python3.11/dist-packages/IPython/core/pylabtools.py:151: UserWarning: Glyph 50984 (\\N{HANGUL SYLLABLE YUL}) missing from font(s) DejaVu Sans.\n",
            "  fig.canvas.print_figure(bytes_io, **kw)\n",
            "/usr/local/lib/python3.11/dist-packages/IPython/core/pylabtools.py:151: UserWarning: Glyph 49345 (\\N{HANGUL SYLLABLE SANG}) missing from font(s) DejaVu Sans.\n",
            "  fig.canvas.print_figure(bytes_io, **kw)\n",
            "/usr/local/lib/python3.11/dist-packages/IPython/core/pylabtools.py:151: UserWarning: Glyph 54872 (\\N{HANGUL SYLLABLE HWAN}) missing from font(s) DejaVu Sans.\n",
            "  fig.canvas.print_figure(bytes_io, **kw)\n",
            "/usr/local/lib/python3.11/dist-packages/IPython/core/pylabtools.py:151: UserWarning: Glyph 44060 (\\N{HANGUL SYLLABLE GAE}) missing from font(s) DejaVu Sans.\n",
            "  fig.canvas.print_figure(bytes_io, **kw)\n",
            "/usr/local/lib/python3.11/dist-packages/IPython/core/pylabtools.py:151: UserWarning: Glyph 50900 (\\N{HANGUL SYLLABLE WEOL}) missing from font(s) DejaVu Sans.\n",
            "  fig.canvas.print_figure(bytes_io, **kw)\n",
            "/usr/local/lib/python3.11/dist-packages/IPython/core/pylabtools.py:151: UserWarning: Glyph 51068 (\\N{HANGUL SYLLABLE IL}) missing from font(s) DejaVu Sans.\n",
            "  fig.canvas.print_figure(bytes_io, **kw)\n",
            "/usr/local/lib/python3.11/dist-packages/IPython/core/pylabtools.py:151: UserWarning: Glyph 54624 (\\N{HANGUL SYLLABLE HAL}) missing from font(s) DejaVu Sans.\n",
            "  fig.canvas.print_figure(bytes_io, **kw)\n",
            "/usr/local/lib/python3.11/dist-packages/IPython/core/pylabtools.py:151: UserWarning: Glyph 51064 (\\N{HANGUL SYLLABLE IN}) missing from font(s) DejaVu Sans.\n",
            "  fig.canvas.print_figure(bytes_io, **kw)\n",
            "/usr/local/lib/python3.11/dist-packages/IPython/core/pylabtools.py:151: UserWarning: Glyph 44552 (\\N{HANGUL SYLLABLE GEUM}) missing from font(s) DejaVu Sans.\n",
            "  fig.canvas.print_figure(bytes_io, **kw)\n",
            "/usr/local/lib/python3.11/dist-packages/IPython/core/pylabtools.py:151: UserWarning: Glyph 50529 (\\N{HANGUL SYLLABLE AEG}) missing from font(s) DejaVu Sans.\n",
            "  fig.canvas.print_figure(bytes_io, **kw)\n",
            "/usr/local/lib/python3.11/dist-packages/IPython/core/pylabtools.py:151: UserWarning: Glyph 52852 (\\N{HANGUL SYLLABLE KA}) missing from font(s) DejaVu Sans.\n",
            "  fig.canvas.print_figure(bytes_io, **kw)\n",
            "/usr/local/lib/python3.11/dist-packages/IPython/core/pylabtools.py:151: UserWarning: Glyph 46300 (\\N{HANGUL SYLLABLE DEU}) missing from font(s) DejaVu Sans.\n",
            "  fig.canvas.print_figure(bytes_io, **kw)\n",
            "/usr/local/lib/python3.11/dist-packages/IPython/core/pylabtools.py:151: UserWarning: Glyph 51060 (\\N{HANGUL SYLLABLE I}) missing from font(s) DejaVu Sans.\n",
            "  fig.canvas.print_figure(bytes_io, **kw)\n",
            "/usr/local/lib/python3.11/dist-packages/IPython/core/pylabtools.py:151: UserWarning: Glyph 50857 (\\N{HANGUL SYLLABLE YONG}) missing from font(s) DejaVu Sans.\n",
            "  fig.canvas.print_figure(bytes_io, **kw)\n",
            "/usr/local/lib/python3.11/dist-packages/IPython/core/pylabtools.py:151: UserWarning: Glyph 54620 (\\N{HANGUL SYLLABLE HAN}) missing from font(s) DejaVu Sans.\n",
            "  fig.canvas.print_figure(bytes_io, **kw)\n",
            "/usr/local/lib/python3.11/dist-packages/IPython/core/pylabtools.py:151: UserWarning: Glyph 46020 (\\N{HANGUL SYLLABLE DO}) missing from font(s) DejaVu Sans.\n",
            "  fig.canvas.print_figure(bytes_io, **kw)\n",
            "/usr/local/lib/python3.11/dist-packages/IPython/core/pylabtools.py:151: UserWarning: Glyph 47161 (\\N{HANGUL SYLLABLE RYEONG}) missing from font(s) DejaVu Sans.\n",
            "  fig.canvas.print_figure(bytes_io, **kw)\n",
            "/usr/local/lib/python3.11/dist-packages/IPython/core/pylabtools.py:151: UserWarning: Glyph 54252 (\\N{HANGUL SYLLABLE PO}) missing from font(s) DejaVu Sans.\n",
            "  fig.canvas.print_figure(bytes_io, **kw)\n",
            "/usr/local/lib/python3.11/dist-packages/IPython/core/pylabtools.py:151: UserWarning: Glyph 53944 (\\N{HANGUL SYLLABLE TEU}) missing from font(s) DejaVu Sans.\n",
            "  fig.canvas.print_figure(bytes_io, **kw)\n",
            "/usr/local/lib/python3.11/dist-packages/IPython/core/pylabtools.py:151: UserWarning: Glyph 51613 (\\N{HANGUL SYLLABLE JEUNG}) missing from font(s) DejaVu Sans.\n",
            "  fig.canvas.print_figure(bytes_io, **kw)\n",
            "/usr/local/lib/python3.11/dist-packages/IPython/core/pylabtools.py:151: UserWarning: Glyph 49440 (\\N{HANGUL SYLLABLE SEON}) missing from font(s) DejaVu Sans.\n",
            "  fig.canvas.print_figure(bytes_io, **kw)\n",
            "/usr/local/lib/python3.11/dist-packages/IPython/core/pylabtools.py:151: UserWarning: Glyph 45224 (\\N{HANGUL SYLLABLE NAM}) missing from font(s) DejaVu Sans.\n",
            "  fig.canvas.print_figure(bytes_io, **kw)\n",
            "/usr/local/lib/python3.11/dist-packages/IPython/core/pylabtools.py:151: UserWarning: Glyph 45376 (\\N{HANGUL SYLLABLE NYEO}) missing from font(s) DejaVu Sans.\n",
            "  fig.canvas.print_figure(bytes_io, **kw)\n",
            "/usr/local/lib/python3.11/dist-packages/IPython/core/pylabtools.py:151: UserWarning: Glyph 44396 (\\N{HANGUL SYLLABLE GU}) missing from font(s) DejaVu Sans.\n",
            "  fig.canvas.print_figure(bytes_io, **kw)\n",
            "/usr/local/lib/python3.11/dist-packages/IPython/core/pylabtools.py:151: UserWarning: Glyph 48516 (\\N{HANGUL SYLLABLE BUN}) missing from font(s) DejaVu Sans.\n",
            "  fig.canvas.print_figure(bytes_io, **kw)\n",
            "/usr/local/lib/python3.11/dist-packages/IPython/core/pylabtools.py:151: UserWarning: Glyph 53076 (\\N{HANGUL SYLLABLE KO}) missing from font(s) DejaVu Sans.\n",
            "  fig.canvas.print_figure(bytes_io, **kw)\n",
            "/usr/local/lib/python3.11/dist-packages/IPython/core/pylabtools.py:151: UserWarning: Glyph 47200 (\\N{HANGUL SYLLABLE RON}) missing from font(s) DejaVu Sans.\n",
            "  fig.canvas.print_figure(bytes_io, **kw)\n"
          ]
        },
        {
          "output_type": "display_data",
          "data": {
            "text/plain": [
              "<Figure size 1000x600 with 1 Axes>"
            ],
            "image/png": "[encoded data removed]"
          },
          "metadata": {}
        }
      ],
      "source": [
        "# 📌 필수 라이브러리 설치\n",
        "!pip install imbalanced-learn\n",
        "\n",
        "# 📌 라이브러리 불러오기\n",
        "import pandas as pd\n",
        "from sklearn.ensemble import RandomForestClassifier\n",
        "from sklearn.model_selection import train_test_split\n",
        "from sklearn.preprocessing import LabelEncoder\n",
        "from sklearn.metrics import classification_report\n",
        "from imblearn.over_sampling import SMOTE\n",
        "import matplotlib.pyplot as plt\n",
        "import seaborn as sns\n",
        "\n",
        "# 📌 CSV 파일 불러오기 (예: 구글드라이브 사용시 경로 수정 필요)\n",
        "df = pd.read_csv(\"/card_test.csv\")  # <-- 코랩에 올린 파일명 사용\n",
        "\n",
        "# 📌 사용할 변수들\n",
        "features = [\n",
        "    '남녀구분코드', '연령', '상환개월수_결제일_R6M', '선결제건수_R6M', '카드이용한도금액',\n",
        "    '연체건수_R3M', '포인트_이용포인트_R12M', '할인금액_R3M', '이용금액_카드론_R3M',\n",
        "    'RV최소결제비율', '한도증액금액_R12M'\n",
        "]\n",
        "target = '회원여부_연체'\n",
        "\n",
        "# 📌 데이터 전처리\n",
        "X = df[features].copy()\n",
        "y = df[target].copy()\n",
        "\n",
        "# 문자열 컬럼 라벨 인코딩\n",
        "for col in X.select_dtypes(include='object').columns:\n",
        "    X[col] = LabelEncoder().fit_transform(X[col].astype(str))\n",
        "\n",
        "# 결측 제거\n",
        "X = X.dropna()\n",
        "y = y[X.index]\n",
        "y = LabelEncoder().fit_transform(y.astype(str))\n",
        "\n",
        "# 📌 SMOTE 적용\n",
        "smote = SMOTE(random_state=42)\n",
        "X_resampled, y_resampled = smote.fit_resample(X, y)\n",
        "\n",
        "# 📌 학습/테스트 분할\n",
        "X_train, X_test, y_train, y_test = train_test_split(X_resampled, y_resampled, test_size=0.2, random_state=42)\n",
        "\n",
        "# 📌 모델 학습\n",
        "model = RandomForestClassifier(random_state=42)\n",
        "model.fit(X_train, y_train)\n",
        "\n",
        "# 📌 예측 및 평가\n",
        "y_pred = model.predict(X_test)\n",
        "print(classification_report(y_test, y_pred))\n",
        "\n",
        "# 📌 피처 중요도 시각화\n",
        "importances = model.feature_importances_\n",
        "importance_df = pd.DataFrame({\n",
        "    'Feature': X.columns,\n",
        "    'Importance': importances\n",
        "}).sort_values(by='Importance', ascending=False)\n",
        "\n",
        "plt.figure(figsize=(10, 6))\n",
        "sns.barplot(x='Importance', y='Feature', data=importance_df)\n",
        "plt.title('Feature Importance (After SMOTE)')\n",
        "plt.tight_layout()\n",
        "plt.show()"
      ]
    },
    {
      "cell_type": "code",
      "source": [
        "from google.colab import drive\n",
        "drive.mount('/content/drive')"
      ],
      "metadata": {
        "colab": {
          "base_uri": "https://localhost:8080/"
        },
        "id": "FcGmx2c6hMDV",
        "outputId": "e8f718a6-c12f-4f16-9237-436f039fe42f"
      },
      "execution_count": null,
      "outputs": [
        {
          "output_type": "stream",
          "name": "stdout",
          "text": [
            "Mounted at /content/drive\n"
          ]
        }
      ]
    },
    {
      "cell_type": "code",
      "source": [
        "print(\"X_test 크기:\", X_test.shape)\n",
        "\n"
      ],
      "metadata": {
        "colab": {
          "base_uri": "https://localhost:8080/"
        },
        "id": "QXuzfc-uf_pq",
        "outputId": "de249c3a-cfca-4d08-9280-b290d4697182"
      },
      "execution_count": null,
      "outputs": [
        {
          "output_type": "stream",
          "name": "stdout",
          "text": [
            "X_test 크기: (569, 11)\n"
          ]
        }
      ]
    },
    {
      "cell_type": "code",
      "source": [
        "print(classification_report(y_test, y_pred))\n",
        "#연체 0, 1?"
      ],
      "metadata": {
        "colab": {
          "base_uri": "https://localhost:8080/"
        },
        "id": "YxLY9QvyY41R",
        "outputId": "7a4d8839-dc10-455f-8265-b0d7a8ce6f72"
      },
      "execution_count": null,
      "outputs": [
        {
          "output_type": "stream",
          "name": "stdout",
          "text": [
            "              precision    recall  f1-score   support\n",
            "\n",
            "           0       1.00      0.98      0.99       286\n",
            "           1       0.98      1.00      0.99       283\n",
            "\n",
            "    accuracy                           0.99       569\n",
            "   macro avg       0.99      0.99      0.99       569\n",
            "weighted avg       0.99      0.99      0.99       569\n",
            "\n"
          ]
        }
      ]
    },
    {
      "cell_type": "code",
      "source": [
        "from sklearn.metrics import confusion_matrix, ConfusionMatrixDisplay\n",
        "\n",
        "cm = confusion_matrix(y_test, y_pred)\n",
        "disp = ConfusionMatrixDisplay(confusion_matrix=cm, display_labels=model.classes_)\n",
        "disp.plot()\n",
        "plt.show()"
      ],
      "metadata": {
        "colab": {
          "base_uri": "https://localhost:8080/",
          "height": 449
        },
        "id": "CdXBURmUZ8il",
        "outputId": "69257641-c138-4a54-9097-1c83c497dbf5"
      },
      "execution_count": null,
      "outputs": [
        {
          "output_type": "display_data",
          "data": {
            "text/plain": [
              "<Figure size 640x480 with 2 Axes>"
            ],
            "image/png": "[encoded data removed]"
          },
          "metadata": {}
        }
      ]
    },
    {
      "cell_type": "code",
      "source": [
        "# 예시: 새로운 고객의 카드 정보 입력\n",
        "new_customer = pd.DataFrame([{\n",
        "    '남녀구분코드': 1,\n",
        "    '연령': '30대',\n",
        "    '상환개월수_결제일_R6M': 6,\n",
        "    '선결제건수_R6M': 2,\n",
        "    '카드이용한도금액': 5000000,\n",
        "    '연체건수_R3M': 1,\n",
        "    '포인트_이용포인트_R12M': 12000,\n",
        "    '할인금액_R3M': 15000,\n",
        "    '이용금액_카드론_R3M': 300000,\n",
        "    'RV최소결제비율': 0.1,\n",
        "    '한도증액금액_R12M': 0\n",
        "}])\n",
        "\n",
        "# 범주형 처리 (연령 등)\n",
        "new_customer['연령'] = LabelEncoder().fit(df['연령']).transform(new_customer['연령'])\n",
        "\n",
        "# 예측\n",
        "prediction = model.predict(new_customer)\n",
        "print(\"연체 예측 결과:\", \"연체\" if prediction[0] == 1 else \"정상\")\n",
        "\n"
      ],
      "metadata": {
        "id": "NAe52P-Ua7iu",
        "outputId": "ece3a4a1-3ce2-4108-c9cb-1ccdd27b7e0d",
        "colab": {
          "base_uri": "https://localhost:8080/"
        }
      },
      "execution_count": null,
      "outputs": [
        {
          "output_type": "stream",
          "name": "stdout",
          "text": [
            "연체 예측 결과: 정상\n"
          ]
        }
      ]
    },
    {
      "cell_type": "markdown",
      "source": [
        "** 질문** 위의 코드처럼 input을 만들어서( 고객 정보를 input할 수 있는 것을 만들어서) 고객의 정보를 넣으면 이사람이 연체를 할 것인지 안 할것인지 예측을 하는 모델을 만들어야할지, 만약에 이게 아니라면 어떤걸 해야하나.\n",
        "submission, csv 어떤식으롤 만들어야할지도 좀 궁금하다.\n",
        "우리는 이제 특수한 경우. csv 포함 안 될 수도\n"
      ],
      "metadata": {
        "id": "V-NFj7-fuByN"
      }
    },
    {
      "cell_type": "markdown",
      "source": [
        "# prompt: 여러분의 경우 제가 정해드린 타겟(Segment) 분류가 아닌 '연체를 할 것인지, 말 것인지' 를 타겟으로 삼으셨기 때문에 이진 분류(연체 안함 : 0, 연체함 : 1)의 분류 task로 재정의한 사례라고 볼 수 있습니다.\n",
        "# 다만 input을 '새로 만드는 것'은 아니고, Y컬럼을 '연체 건수_RnM(여기서 n은 자연수를 의미)'을 바탕으로 0, 1로 변경하여 기존의 train 데이터를 사용하시면 됩니다.\n",
        "# 이 내용은 첨부파일(노트북, csv)을 확인하시면 됩니다.\n",
        "\n",
        "import pandas as pd\n",
        "# 기존 코드는 그대로 유지하되, 예측 부분만 수정합니다.\n",
        "\n"
      ],
      "metadata": {
        "id": "FRMDlSxyg6ij"
      }
    },
    {
      "cell_type": "code",
      "source": [
        "\n",
        "# 연체 여부로 타겟 이진화\n",
        "# 연체 건수 > 0 이면 1, 그렇지 않으면 0\n",
        "train['Y_binary'] = train['연체 건수_R6M'].apply(lambda x: 1 if x > 0 else 0)\n",
        "\n",
        "# 기존 Y 컬럼 대신 Y_binary를 타겟으로 사용\n",
        "X = train.drop(['연체 건수_R6M', 'Y_binary'], axis=1)\n",
        "y = train['Y_binary']\n"
      ],
      "metadata": {
        "colab": {
          "base_uri": "https://localhost:8080/",
          "height": 211
        },
        "id": "76kfZ4eXbIIj",
        "outputId": "eeb3a988-f6c8-4563-c33b-95ecc8d72a94"
      },
      "execution_count": null,
      "outputs": [
        {
          "output_type": "error",
          "ename": "NameError",
          "evalue": "name 'train' is not defined",
          "traceback": [
            "\u001b[0;31m---------------------------------------------------------------------------\u001b[0m",
            "\u001b[0;31mNameError\u001b[0m                                 Traceback (most recent call last)",
            "\u001b[0;32m<ipython-input-8-aa0c14042d9a>\u001b[0m in \u001b[0;36m<cell line: 0>\u001b[0;34m()\u001b[0m\n\u001b[1;32m      1\u001b[0m \u001b[0;31m# 연체 여부로 타겟 이진화\u001b[0m\u001b[0;34m\u001b[0m\u001b[0;34m\u001b[0m\u001b[0m\n\u001b[1;32m      2\u001b[0m \u001b[0;31m# 연체 건수 > 0 이면 1, 그렇지 않으면 0\u001b[0m\u001b[0;34m\u001b[0m\u001b[0;34m\u001b[0m\u001b[0m\n\u001b[0;32m----> 3\u001b[0;31m \u001b[0mtrain\u001b[0m\u001b[0;34m[\u001b[0m\u001b[0;34m'Y_binary'\u001b[0m\u001b[0;34m]\u001b[0m \u001b[0;34m=\u001b[0m \u001b[0mtrain\u001b[0m\u001b[0;34m[\u001b[0m\u001b[0;34m'연체 건수_R6M'\u001b[0m\u001b[0;34m]\u001b[0m\u001b[0;34m.\u001b[0m\u001b[0mapply\u001b[0m\u001b[0;34m(\u001b[0m\u001b[0;32mlambda\u001b[0m \u001b[0mx\u001b[0m\u001b[0;34m:\u001b[0m \u001b[0;36m1\u001b[0m \u001b[0;32mif\u001b[0m \u001b[0mx\u001b[0m \u001b[0;34m>\u001b[0m \u001b[0;36m0\u001b[0m \u001b[0;32melse\u001b[0m \u001b[0;36m0\u001b[0m\u001b[0;34m)\u001b[0m\u001b[0;34m\u001b[0m\u001b[0;34m\u001b[0m\u001b[0m\n\u001b[0m\u001b[1;32m      4\u001b[0m \u001b[0;34m\u001b[0m\u001b[0m\n\u001b[1;32m      5\u001b[0m \u001b[0;31m# 기존 Y 컬럼 대신 Y_binary를 타겟으로 사용\u001b[0m\u001b[0;34m\u001b[0m\u001b[0;34m\u001b[0m\u001b[0m\n",
            "\u001b[0;31mNameError\u001b[0m: name 'train' is not defined"
          ]
        }
      ]
    },
    {
      "source": [
        "# 연체 여부로 타겟 이진화\n",
        "# 연체 건수 > 0 이면 1, 그렇지 않으면 0\n",
        "# Assuming '연체 건수_R6M' is a column in the original DataFrame 'df'\n",
        "# If the goal is to use '회원여부_연체' as the target,\n",
        "# and it's already binary (0 or 1), this block might not be needed.\n",
        "# If '회원여부_연체' needs binarization, adjust the logic below to use that column.\n",
        "\n",
        "# Use 'df' instead of 'train' as 'train' is not defined.\n",
        "# Check if '연체 건수_R6M' column exists in df.\n",
        "if '연체 건수_R6M' in df.columns:\n",
        "    df['Y_binary'] = df['연체 건수_R6M'].apply(lambda x: 1 if x > 0 else 0)\n",
        "\n",
        "    # Update X and y to use the new binary target and drop the original target column\n",
        "    # Note: This will redefine X and y, potentially overwriting the previous X and y\n",
        "    # created from '회원여부_연체'. Ensure this is the desired behavior.\n",
        "    # Also, drop the original target column used before ('회원여부_연체') if it's not needed.\n",
        "    columns_to_drop = [col for col in ['연체 건수_R6M', 'Y_binary', target] if col in df.columns]\n",
        "    X = df.drop(columns=columns_to_drop, axis=1).copy() # Use .copy() to avoid SettingWithCopyWarning later\n",
        "    y = df['Y_binary'].copy() # Use .copy()\n",
        "else:\n",
        "    print(\"Warning: '연체 건수_R6M' not found in the DataFrame. Cannot create Y_binary based on this column.\")\n",
        "    # If '연체 건수_R6M' doesn't exist and the user wants to stick to the original target '회원여부_연체',\n",
        "    # ensure '회원여부_연체' is correctly formatted as binary (0 or 1).\n",
        "    # X and y remain as defined earlier in the notebook using '회원여부_연체'.\n",
        "    # You might want to re-run the data preprocessing steps if X and y were modified after the initial split.\n",
        "    pass # Keep the original X and y defined earlier\n",
        "\n",
        "# Re-apply preprocessing steps like LabelEncoding and dropna if X and y were redefined\n",
        "# based on the new binary target.\n",
        "# Example (adjust based on your original preprocessing steps):\n",
        "# for col in X.select_dtypes(include='object').columns:\n",
        "#     X[col] = LabelEncoder().fit_transform(X[col].astype(str))\n",
        "#\n",
        "# X = X.dropna()\n",
        "# y = y[X.index] # Align y with X after dropping rows with NaNs\n",
        "\n",
        "# Note: The SMOTE and train_test_split steps will need to be re-run\n",
        "# after redefining X and y in this block if the new target is used."
      ],
      "cell_type": "code",
      "metadata": {
        "colab": {
          "base_uri": "https://localhost:8080/"
        },
        "id": "XowqaFbzjNcE",
        "outputId": "c9fb7a0f-8731-423d-ef24-e6cbaa862d09"
      },
      "execution_count": null,
      "outputs": [
        {
          "output_type": "stream",
          "name": "stdout",
          "text": [
            "Warning: '연체 건수_R6M' not found in the DataFrame. Cannot create Y_binary based on this column.\n"
          ]
        }
      ]
    },
    {
      "cell_type": "markdown",
      "source": [
        "\n",
        "> 이대로 하는지 코드 추가로 하는지 어떤게 부족한지\n",
        "\n",
        "\n",
        "\n"
      ],
      "metadata": {
        "id": "lIGkLNUzpCks"
      }
    },
    {
      "cell_type": "code",
      "source": [],
      "metadata": {
        "id": "KbkBJ7nKV-wv"
      },
      "execution_count": null,
      "outputs": []
    }
  ]
}