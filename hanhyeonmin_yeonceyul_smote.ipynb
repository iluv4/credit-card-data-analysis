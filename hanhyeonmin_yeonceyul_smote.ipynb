## 1. 구글 드라이브 마운트

```python
from google.colab import drive
drive.mount('/content/drive')
```
- **Colab 환경에서 구글 드라이브를 마운트하여, 드라이브 내에 저장된 데이터를 읽고 쓸 수 있게 합니다.**

---

## 2. 데이터 불러오기 및 기본 정보 확인

```python
import pandas as pd

# 데이터 불러오기
df = pd.read_csv('/content/drive/MyDrive/your_data.csv')
```
- **pandas로 csv 파일을 읽어 DataFrame으로 저장합니다.**
- 데이터는 1,440행, 737열로 매우 많은 컬럼을 포함하고 있습니다[1].

```python
# 데이터 일부 미리보기
print(df.head())
```
- **데이터의 상위 5개 행을 출력하여 컬럼명, 값의 예시를 확인합니다.**

```python
# 데이터 구조 확인
print(df.info())
```
- **각 컬럼의 데이터 타입, 결측치 유무, 전체 크기 등을 확인합니다.**

---

## 3. 데이터 통계 요약 및 결측치 확인

```python
# 주요 수치형 컬럼의 통계 요약
print(df.describe())
```
- **평균(mean), 표준편차(std), 최소/최대값(min/max), 사분위수(25%, 50%, 75%) 등 통계 정보를 제공합니다.**
- 예시: 남녀구분코드, 상환개월수, 카드이용한도금액 등[1].

```python
# 결측치 개수 확인
print(df.isnull().sum())
```
- **각 컬럼별로 결측값이 몇 개인지 파악하여, 데이터 정제 필요성을 점검합니다.**
- 이 데이터셋은 결측치가 거의 없는 것으로 보입니다.

---

## 4. 타겟(종속 변수) 분포 확인

```python
print(df['target_column'].value_counts())
```
- **타겟 컬럼(예: 연체 여부 등)의 클래스별 데이터 개수를 확인합니다.**
- 데이터가 불균형(한쪽 클래스에 몰림)되어 있는지 확인할 수 있습니다.

---

## 5. 데이터 전처리 및 SMOTE 적용

```python
from imblearn.over_sampling import SMOTE

X = df.drop('target_column', axis=1)
y = df['target_column']

smote = SMOTE(random_state=42)
X_resampled, y_resampled = smote.fit_resample(X, y)
```
- **SMOTE(Synthetic Minority Over-sampling Technique)로 소수 클래스 데이터를 합성하여 데이터 불균형 문제를 완화합니다.**
- X: 입력 변수, y: 타겟 변수로 분리.

---

## 6. 데이터 분할 (학습/테스트)

```python
from sklearn.model_selection import train_test_split

X_train, X_test, y_train, y_test = train_test_split(
    X_resampled, y_resampled, test_size=0.2, random_state=42
)
```
- **학습 데이터와 테스트 데이터로 분할(test_size=0.2는 20%를 테스트용으로 사용).**

---

## 7. 머신러닝 모델 학습 및 평가

```python
from sklearn.ensemble import RandomForestClassifier
from sklearn.metrics import classification_report, confusion_matrix

clf = RandomForestClassifier(random_state=42)
clf.fit(X_train, y_train)

y_pred = clf.predict(X_test)

print(classification_report(y_test, y_pred))
print(confusion_matrix(y_test, y_pred))
```
- **랜덤포레스트 분류기를 학습시키고, 테스트 데이터로 예측을 수행합니다.**
- classification_report: 정밀도(precision), 재현율(recall), F1-score 등 주요 지표를 제공합니다.
- confusion_matrix: 실제값과 예측값의 매트릭스를 표로 보여줍니다.
- 예시 출력  
  ```
  |Predicted 0|Predicted 1|
  |-----------|-----------|
  |Actual 0   |426        |0|
  |Actual 1   |6          |0|
  ```
  → 실제로 한쪽 클래스에 예측이 몰리는 불균형 현상이 확인됨[1].

---

## 8. 추가 데이터 탐색 및 반복 평가

- **여러 번에 걸쳐 confusion matrix와 classification report를 출력하여, 모델의 성능과 데이터 불균형 문제를 반복적으로 점검합니다.**
- 일부 평가에서는 소수 클래스(1)에 대한 예측이 거의 이루어지지 않는 등, 데이터 불균형 문제의 심각성을 알 수 있습니다.

---

## 전체 흐름 요약

- 대용량(737컬럼) 데이터셋을 불러와 구조와 통계를 꼼꼼히 탐색합니다.
- 결측치와 타겟 분포를 확인하여 데이터 품질과 불균형 문제를 진단합니다.
- SMOTE로 소수 클래스 데이터를 합성하여 불균형을 완화합니다.
- 데이터 분할 후 랜덤포레스트 등 머신러닝 모델을 학습·평가합니다.
- 평가 결과를 반복적으로 점검하여, 데이터와 모델의 한계를 파악합니다.

---

### 참고

- 실제 코드에는 출력 결과(통계, confusion matrix 등)가 여러 번 등장하며, 각 단계별로 데이터 탐색과 평가가 매우 꼼꼼하게 이루어집니다.
- 각 코드 셀마다 위와 같은 주석을 추가하면, 데이터 분석 및 모델링 흐름을 쉽게 이해할 수 있습니다.
